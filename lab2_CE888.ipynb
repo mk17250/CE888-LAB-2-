{
 "cells": [
  {
   "cell_type": "code",
   "execution_count": 56,
   "metadata": {},
   "outputs": [
    {
     "data": {
      "text/html": [
       "<iframe src=http://pandas.pydata.org width=800 height=350></iframe>"
      ],
      "text/plain": [
       "<IPython.core.display.HTML object>"
      ]
     },
     "execution_count": 56,
     "metadata": {},
     "output_type": "execute_result"
    }
   ],
   "source": [
    "from IPython.core.display import HTML\n",
    "HTML(\"<iframe src=http://pandas.pydata.org width=800 height=350></iframe>\")\n"
   ]
  },
  {
   "cell_type": "code",
   "execution_count": 70,
   "metadata": {},
   "outputs": [],
   "source": [
    "import numpy as np"
   ]
  },
  {
   "cell_type": "code",
   "execution_count": 71,
   "metadata": {},
   "outputs": [],
   "source": [
    "import pandas as pd"
   ]
  },
  {
   "cell_type": "code",
   "execution_count": 104,
   "metadata": {
    "scrolled": true
   },
   "outputs": [
    {
     "name": "stdout",
     "output_type": "stream",
     "text": [
      "         Taxon  Patient  Tissue  Stool\n",
      "0   Firmicutes        1     632    305\n",
      "1   Firmicutes        2     136   4182\n",
      "2   Firmicutes        3    1174    703\n",
      "3   Firmicutes        4     408   3946\n",
      "4   Firmicutes        5     831   8605\n",
      "..         ...      ...     ...    ...\n",
      "70       Other       11     203      6\n",
      "71       Other       12     392      6\n",
      "72       Other       13      28     25\n",
      "73       Other       14      12     22\n",
      "74       Other       15     305     32\n",
      "\n",
      "[75 rows x 4 columns]\n"
     ]
    }
   ],
   "source": [
    "mb = pd.read_csv('microbiome.csv')\n",
    "print(mb)"
   ]
  },
  {
   "cell_type": "code",
   "execution_count": 106,
   "metadata": {
    "scrolled": true
   },
   "outputs": [
    {
     "name": "stdout",
     "output_type": "stream",
     "text": [
      "         Taxon  Patient Tissue   Stool\n",
      "0   Firmicutes        1    632   305.0\n",
      "1   Firmicutes        2    136  4182.0\n",
      "2   Firmicutes        3    NaN   703.0\n",
      "3   Firmicutes        4    408  3946.0\n",
      "4   Firmicutes        5    831  8605.0\n",
      "..         ...      ...    ...     ...\n",
      "70       Other       11    203     6.0\n",
      "71       Other       12    392     6.0\n",
      "72       Other       13     28    25.0\n",
      "73       Other       14     12    22.0\n",
      "74       Other       15    305    32.0\n",
      "\n",
      "[75 rows x 4 columns]\n"
     ]
    }
   ],
   "source": [
    "mbm = pd.read_csv('microbiome_missing.csv')\n",
    "print(mbm)"
   ]
  },
  {
   "cell_type": "code",
   "execution_count": 113,
   "metadata": {},
   "outputs": [
    {
     "data": {
      "text/plain": [
       "{'Firmicutes': 684.4,\n",
       " 'Proteobacteria': 2943.0666666666666,\n",
       " 'Actinobacteria': 449.06666666666666,\n",
       " 'Bacteroidetes': 599.6666666666666,\n",
       " 'Other': 198.8}"
      ]
     },
     "execution_count": 113,
     "metadata": {},
     "output_type": "execute_result"
    }
   ],
   "source": [
    "data_chunks = pd.read_csv(\"microbiome.csv\", chunksize=15)\n",
    "\n",
    "mean_tissue = {chunk.Taxon.iloc[0]:chunk.Tissue.mean() for chunk in data_chunks}\n",
    "    \n",
    "mean_tissue"
   ]
  },
  {
   "cell_type": "code",
   "execution_count": 107,
   "metadata": {
    "scrolled": true
   },
   "outputs": [
    {
     "name": "stdout",
     "output_type": "stream",
     "text": [
      "     patient  obs  week  site  id  treat  age sex  twstrs\n",
      "0          1    1     0     1   1  5000U   65   F      32\n",
      "1          1    2     2     1   1  5000U   65   F      30\n",
      "2          1    3     4     1   1  5000U   65   F      24\n",
      "3          1    4     8     1   1  5000U   65   F      37\n",
      "4          1    5    12     1   1  5000U   65   F      39\n",
      "..       ...  ...   ...   ...  ..    ...  ...  ..     ...\n",
      "626      109    1     0     9  11  5000U   57   M      53\n",
      "627      109    2     2     9  11  5000U   57   M      38\n",
      "628      109    4     8     9  11  5000U   57   M      33\n",
      "629      109    5    12     9  11  5000U   57   M      36\n",
      "630      109    6    16     9  11  5000U   57   M      51\n",
      "\n",
      "[631 rows x 9 columns]\n"
     ]
    }
   ],
   "source": [
    "cdy = pd.read_csv('cdystonia.csv')\n",
    "print(cdy)"
   ]
  },
  {
   "cell_type": "code",
   "execution_count": 112,
   "metadata": {},
   "outputs": [
    {
     "name": "stdout",
     "output_type": "stream",
     "text": [
      "       id     player  year  stint team  lg    g   ab   r    h  ...   rbi   sb  \\\n",
      "0   88641  womacto01  2006      2  CHN  NL   19   50   6   14  ...   2.0  1.0   \n",
      "1   88643  schilcu01  2006      1  BOS  AL   31    2   0    1  ...   0.0  0.0   \n",
      "2   88645  myersmi01  2006      1  NYA  AL   62    0   0    0  ...   0.0  0.0   \n",
      "3   88649  helliri01  2006      1  MIL  NL   20    3   0    0  ...   0.0  0.0   \n",
      "4   88650  johnsra05  2006      1  NYA  AL   33    6   0    1  ...   0.0  0.0   \n",
      "..    ...        ...   ...    ...  ...  ..  ...  ...  ..  ...  ...   ...  ...   \n",
      "95  89525  benitar01  2007      2  FLO  NL   34    0   0    0  ...   0.0  0.0   \n",
      "96  89526  benitar01  2007      1  SFN  NL   19    0   0    0  ...   0.0  0.0   \n",
      "97  89530  ausmubr01  2007      1  HOU  NL  117  349  38   82  ...  25.0  6.0   \n",
      "98  89533   aloumo01  2007      1  NYN  NL   87  328  51  112  ...  49.0  3.0   \n",
      "99  89534  alomasa02  2007      1  NYN  NL    8   22   1    3  ...   0.0  0.0   \n",
      "\n",
      "     cs  bb    so  ibb  hbp   sh   sf  gidp  \n",
      "0   1.0   4   4.0  0.0  0.0  3.0  0.0   0.0  \n",
      "1   0.0   0   1.0  0.0  0.0  0.0  0.0   0.0  \n",
      "2   0.0   0   0.0  0.0  0.0  0.0  0.0   0.0  \n",
      "3   0.0   0   2.0  0.0  0.0  0.0  0.0   0.0  \n",
      "4   0.0   0   4.0  0.0  0.0  0.0  0.0   0.0  \n",
      "..  ...  ..   ...  ...  ...  ...  ...   ...  \n",
      "95  0.0   0   0.0  0.0  0.0  0.0  0.0   0.0  \n",
      "96  0.0   0   0.0  0.0  0.0  0.0  0.0   0.0  \n",
      "97  1.0  37  74.0  3.0  6.0  4.0  1.0  11.0  \n",
      "98  0.0  27  30.0  5.0  2.0  0.0  3.0  13.0  \n",
      "99  0.0   0   3.0  0.0  0.0  0.0  0.0   0.0  \n",
      "\n",
      "[100 rows x 23 columns]\n"
     ]
    }
   ],
   "source": [
    "base = pd.read_csv('baseball.csv')\n",
    "print(base)"
   ]
  },
  {
   "cell_type": "code",
   "execution_count": 109,
   "metadata": {},
   "outputs": [
    {
     "data": {
      "text/plain": [
       "'C:\\\\Users\\\\Home'"
      ]
     },
     "execution_count": 109,
     "metadata": {},
     "output_type": "execute_result"
    }
   ],
   "source": [
    "os.getcwd()"
   ]
  },
  {
   "cell_type": "code",
   "execution_count": 110,
   "metadata": {},
   "outputs": [
    {
     "name": "stdout",
     "output_type": "stream",
     "text": [
      "    Archaea \"Crenarchaeota\" Thermoprotei Desulfurococcales Desulfurococcaceae Ignisphaera  \\\n",
      "0    Archaea \"Crenarchaeota\" Thermoprotei Desulfuro...                                      \n",
      "1    Archaea \"Crenarchaeota\" Thermoprotei Sulfoloba...                                      \n",
      "2    Archaea \"Crenarchaeota\" Thermoprotei Thermopro...                                      \n",
      "3    Archaea \"Euryarchaeota\" \"Methanomicrobia\" Meth...                                      \n",
      "4    Archaea \"Euryarchaeota\" \"Methanomicrobia\" Meth...                                      \n",
      "..                                                 ...                                      \n",
      "266  Bacteria \"Thermotogae\" Thermotogae Thermotogal...                                      \n",
      "267  Bacteria \"Verrucomicrobia\" Opitutae Opitutales...                                      \n",
      "268  Bacteria Cyanobacteria Cyanobacteria  Chloropl...                                      \n",
      "269  Bacteria Cyanobacteria Cyanobacteria  Chloropl...                                      \n",
      "270  Bacteria Cyanobacteria Cyanobacteria  Chloropl...                                      \n",
      "\n",
      "        7  \n",
      "0       2  \n",
      "1       3  \n",
      "2       3  \n",
      "3       7  \n",
      "4       1  \n",
      "..    ...  \n",
      "266     9  \n",
      "267     1  \n",
      "268     2  \n",
      "269    85  \n",
      "270  1388  \n",
      "\n",
      "[271 rows x 2 columns]\n"
     ]
    }
   ],
   "source": [
    "MID1 = pd.read_excel('MID1.xls')\n",
    "print(MID1)\n"
   ]
  },
  {
   "cell_type": "code",
   "execution_count": 111,
   "metadata": {
    "scrolled": false
   },
   "outputs": [
    {
     "name": "stdout",
     "output_type": "stream",
     "text": [
      "    Archaea \"Crenarchaeota\" Thermoprotei Acidilobales Acidilobaceae Acidilobus  \\\n",
      "0    Archaea \"Crenarchaeota\" Thermoprotei Acidiloba...                           \n",
      "1    Archaea \"Crenarchaeota\" Thermoprotei Desulfuro...                           \n",
      "2    Archaea \"Crenarchaeota\" Thermoprotei Desulfuro...                           \n",
      "3    Archaea \"Crenarchaeota\" Thermoprotei Desulfuro...                           \n",
      "4    Archaea \"Crenarchaeota\" Thermoprotei Desulfuro...                           \n",
      "..                                                 ...                           \n",
      "282  Bacteria \"Thermotogae\" Thermotogae Thermotogal...                           \n",
      "283  Bacteria \"Thermotogae\" Thermotogae Thermotogal...                           \n",
      "284  Bacteria Cyanobacteria Cyanobacteria  Chloropl...                           \n",
      "285  Bacteria Cyanobacteria Cyanobacteria  Chloropl...                           \n",
      "286          Bacteria TM7    TM7_genera_incertae_sedis                           \n",
      "\n",
      "      2  \n",
      "0    14  \n",
      "1    23  \n",
      "2     1  \n",
      "3     2  \n",
      "4     1  \n",
      "..   ..  \n",
      "282  15  \n",
      "283  22  \n",
      "284   1  \n",
      "285   2  \n",
      "286   2  \n",
      "\n",
      "[287 rows x 2 columns]\n"
     ]
    }
   ],
   "source": [
    "MID2 = pd.read_excel('MID2.xls')\n",
    "print(MID2)"
   ]
  },
  {
   "cell_type": "code",
   "execution_count": 98,
   "metadata": {
    "scrolled": true
   },
   "outputs": [
    {
     "data": {
      "text/plain": [
       "['.ipynb_checkpoints',\n",
       " '.ipython',\n",
       " '.jupyter',\n",
       " '.vscode',\n",
       " '3D Objects',\n",
       " 'anaconda3',\n",
       " 'AppData',\n",
       " 'Application Data',\n",
       " 'baseball.csv',\n",
       " 'cdystonia.csv',\n",
       " 'Contacts',\n",
       " 'Cookies',\n",
       " 'data',\n",
       " 'data_lab22.ipynb',\n",
       " 'Documents',\n",
       " 'Downloads',\n",
       " 'Favorites',\n",
       " 'Intel',\n",
       " 'IntelGraphicsProfiles',\n",
       " 'Introduction to Python.ipynb',\n",
       " 'lab2_CE888.ipynb',\n",
       " 'Links',\n",
       " 'Local Settings',\n",
       " 'microbiome',\n",
       " 'microbiome.csv',\n",
       " 'microbiome_missing.csv',\n",
       " 'MicrosoftEdgeBackups',\n",
       " 'Music',\n",
       " 'My Documents',\n",
       " 'NetHood',\n",
       " 'NTUSER.DAT',\n",
       " 'ntuser.dat.LOG1',\n",
       " 'ntuser.dat.LOG2',\n",
       " 'NTUSER.DAT{a44620e6-c166-11ea-888f-9cfeb13ad565}.TM.blf',\n",
       " 'NTUSER.DAT{a44620e6-c166-11ea-888f-9cfeb13ad565}.TMContainer00000000000000000001.regtrans-ms',\n",
       " 'NTUSER.DAT{a44620e6-c166-11ea-888f-9cfeb13ad565}.TMContainer00000000000000000002.regtrans-ms',\n",
       " 'ntuser.ini',\n",
       " 'OneDrive',\n",
       " 'Pictures',\n",
       " 'PrintHood',\n",
       " 'Python Introduction .ipynb',\n",
       " 'Recent',\n",
       " 'Saved Games',\n",
       " 'Searches',\n",
       " 'SendTo',\n",
       " 'Start Menu',\n",
       " 'Templates',\n",
       " 'Untitled.ipynb',\n",
       " 'Untitled1.ipynb',\n",
       " 'Untitled2.ipynb',\n",
       " 'Untitled3.ipynb',\n",
       " 'Untitled4.ipynb',\n",
       " 'Untitled5.ipynb',\n",
       " 'Videos']"
      ]
     },
     "execution_count": 98,
     "metadata": {},
     "output_type": "execute_result"
    }
   ],
   "source": [
    "import pandas as pd \n",
    "import os \n",
    "os.getcwd()\n",
    "os.listdir(os.getcwd())"
   ]
  },
  {
   "cell_type": "code",
   "execution_count": 114,
   "metadata": {},
   "outputs": [
    {
     "data": {
      "text/plain": [
       "pandas.core.frame.DataFrame"
      ]
     },
     "execution_count": 114,
     "metadata": {},
     "output_type": "execute_result"
    }
   ],
   "source": [
    "type(mbm)"
   ]
  }
 ],
 "metadata": {
  "kernelspec": {
   "display_name": "Python 3",
   "language": "python",
   "name": "python3"
  },
  "language_info": {
   "codemirror_mode": {
    "name": "ipython",
    "version": 3
   },
   "file_extension": ".py",
   "mimetype": "text/x-python",
   "name": "python",
   "nbconvert_exporter": "python",
   "pygments_lexer": "ipython3",
   "version": "3.8.5"
  }
 },
 "nbformat": 4,
 "nbformat_minor": 4
}
